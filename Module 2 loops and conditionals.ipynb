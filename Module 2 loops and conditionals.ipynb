{
 "cells": [
  {
   "cell_type": "code",
   "execution_count": 3,
   "id": "b19e0e31-9d55-4889-b9cc-54eb3821cdf4",
   "metadata": {},
   "outputs": [
    {
     "name": "stdout",
     "output_type": "stream",
     "text": [
      "\n",
      "too low\n"
     ]
    }
   ],
   "source": [
    "secret = 3\n",
    "guess = 2\n",
    "\n",
    "if guess < secret:\n",
    "    print(\"\\ntoo low\")\n",
    "if guess > secret:\n",
    "    print(\"\\ntoo high\")\n",
    "if guess == secret:\n",
    "    print(\"\\njust right\")\n",
    "\n"
   ]
  },
  {
   "cell_type": "code",
   "execution_count": 5,
   "id": "1e3e3ad9-61f1-495a-aa8f-6d446029d2d1",
   "metadata": {},
   "outputs": [
    {
     "name": "stdout",
     "output_type": "stream",
     "text": [
      "\n",
      "pumpkin\n",
      "\n"
     ]
    }
   ],
   "source": [
    "small = False\n",
    "\n",
    "green = False\n",
    "\n",
    "if small and green:\n",
    "    print(\"\\npea\\n\")\n",
    "if not small and green:\n",
    "    print(\"\\nwatermelon\\n\")\n",
    "if not small and not green:\n",
    "    print(\"\\npumpkin\\n\")\n",
    "if small and not green:\n",
    "    print(\"\\ncherry\\n\")"
   ]
  },
  {
   "cell_type": "code",
   "execution_count": 9,
   "id": "8aad4ee4-0a81-4353-a701-3092a0c796fb",
   "metadata": {},
   "outputs": [
    {
     "name": "stdout",
     "output_type": "stream",
     "text": [
      "3\n",
      "2\n",
      "1\n",
      "0\n"
     ]
    }
   ],
   "source": [
    "num_list = [3, 2, 1, 0]\n",
    "\n",
    "for numbers in num_list:\n",
    "    print(numbers)"
   ]
  },
  {
   "cell_type": "code",
   "execution_count": 13,
   "id": "55d75a1d-d55f-45ba-959f-1b94561df4f2",
   "metadata": {},
   "outputs": [
    {
     "name": "stdout",
     "output_type": "stream",
     "text": [
      "too low\n",
      "too low\n",
      "too low\n",
      "too low\n",
      "too low\n",
      "too low\n",
      "found it!\n"
     ]
    }
   ],
   "source": [
    "guess_me = 7\n",
    "\n",
    "number = 1\n",
    "\n",
    "while True:\n",
    "    if number < guess_me:\n",
    "        print(\"too low\")\n",
    "    elif number == guess_me:\n",
    "        print(\"found it!\")\n",
    "        break\n",
    "    else:\n",
    "        print(\"oops\")\n",
    "        break\n",
    "    number += 1"
   ]
  },
  {
   "cell_type": "code",
   "execution_count": 15,
   "id": "10df68e5-4fb0-4342-ab24-0ff048ad148b",
   "metadata": {},
   "outputs": [
    {
     "name": "stdout",
     "output_type": "stream",
     "text": [
      "too low\n",
      "too low\n",
      "too low\n",
      "too low\n",
      "too low\n",
      "found it!\n"
     ]
    }
   ],
   "source": [
    "guess_me = 5\n",
    "\n",
    "for number in range(10):\n",
    "    if number < guess_me:\n",
    "        print(\"too low\")\n",
    "    elif number == guess_me:\n",
    "        print(\"found it!\")\n",
    "        break  # Salimos del ciclo cuando encontramos el valor\n",
    "    else:\n",
    "        print(\"oops\")\n",
    "        break  # Salimos del ciclo si number es mayor que guess_me\n"
   ]
  },
  {
   "cell_type": "code",
   "execution_count": null,
   "id": "bc17d50b-4361-405f-a047-7564e0562a44",
   "metadata": {},
   "outputs": [],
   "source": []
  }
 ],
 "metadata": {
  "kernelspec": {
   "display_name": "anaconda-2024.02-py310",
   "language": "python",
   "name": "conda-env-anaconda-2024.02-py310-py"
  },
  "language_info": {
   "codemirror_mode": {
    "name": "ipython",
    "version": 3
   },
   "file_extension": ".py",
   "mimetype": "text/x-python",
   "name": "python",
   "nbconvert_exporter": "python",
   "pygments_lexer": "ipython3",
   "version": "3.10.14"
  }
 },
 "nbformat": 4,
 "nbformat_minor": 5
}
